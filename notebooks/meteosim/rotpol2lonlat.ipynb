{
 "cells": [
  {
   "cell_type": "markdown",
   "metadata": {},
   "source": [
    "# Map to region\n",
    "\n",
    "As explained in https://code.mpimet.mpg.de/boards/2/topics/96"
   ]
  },
  {
   "cell_type": "code",
   "execution_count": 1,
   "metadata": {},
   "outputs": [],
   "source": [
    "import cdo"
   ]
  },
  {
   "cell_type": "code",
   "execution_count": 2,
   "metadata": {},
   "outputs": [],
   "source": [
    "product = 'moloch'\n",
    "run = '2018050103'"
   ]
  },
  {
   "cell_type": "code",
   "execution_count": 3,
   "metadata": {},
   "outputs": [],
   "source": [
    "c = cdo.Cdo()"
   ]
  },
  {
   "cell_type": "code",
   "execution_count": 10,
   "metadata": {},
   "outputs": [],
   "source": [
    "fin = './data/{}_{}.cf'.format(product, run)\n",
    "fout = './data/{}_{}_mapped.cf'.format(product, run)"
   ]
  },
  {
   "cell_type": "code",
   "execution_count": 11,
   "metadata": {},
   "outputs": [
    {
     "data": {
      "text/plain": [
       "'./data/moloch_2018050103_mapped.cf'"
      ]
     },
     "execution_count": 11,
     "metadata": {},
     "output_type": "execute_result"
    }
   ],
   "source": [
    "xsize = 256\n",
    "ysize = 256\n",
    "xfirst = 6\n",
    "xlast  = 19\n",
    "xinc = (xlast - xfirst)/xsize\n",
    "yfirst = 36\n",
    "ylast  = 47\n",
    "yinc = (ylast - yfirst)/ysize\n",
    "\n",
    "gfname = 'mygrid.txt'\n",
    "with open(gfname, 'w') as o:\n",
    "    o.write(\"\"\"\n",
    "    gridtype = lonlat\n",
    "    xsize = {}\n",
    "    ysize = {}\n",
    "    xfirst = {}\n",
    "    xinc = {}\n",
    "    yfirst = {}\n",
    "    yinc = {}\n",
    "    \"\"\".format(xsize, ysize, xfirst, xinc, yfirst, yinc))\n",
    "c.remapbil(gfname, input=fin, output=fout)"
   ]
  }
 ],
 "metadata": {
  "kernelspec": {
   "display_name": "Python 3",
   "language": "python",
   "name": "python3"
  },
  "language_info": {
   "codemirror_mode": {
    "name": "ipython",
    "version": 3
   },
   "file_extension": ".py",
   "mimetype": "text/x-python",
   "name": "python",
   "nbconvert_exporter": "python",
   "pygments_lexer": "ipython3",
   "version": "3.6.7"
  }
 },
 "nbformat": 4,
 "nbformat_minor": 2
}
