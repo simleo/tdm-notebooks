{
 "cells": [
  {
   "cell_type": "markdown",
   "metadata": {},
   "source": [
    "# Rotated pole coordinate transform"
   ]
  },
  {
   "cell_type": "markdown",
   "metadata": {},
   "source": [
    "\n",
    "Three parameters define a general latitude/longitude coordinate system, formed\n",
    "by a general rotation of the sphere. One choice for these parameters is the one considered in CF:\n",
    "\n",
    "```\n",
    "grid_mapping_name = rotated_latitude_longitude\n",
    "\n",
    "Map parameters:\n",
    "\n",
    "        grid_north_pole_latitude\n",
    "\n",
    "        grid_north_pole_longitude\n",
    "\n",
    "        north_pole_grid_longitude - This parameter is optional (default is 0).\n",
    "\n",
    "Map coordinates:\n",
    "\n",
    "    The rotated latitude and longitude coordinates are identified by the\n",
    "    standard_name attribute values grid_latitude and grid_longitude\n",
    "    respectively.\n",
    "```\n",
    "\n",
    "\n",
    "Grid Mapping Attributes\n",
    "\n",
    "| Attribute | Description |\n",
    "|---|---\n",
    "| grid_mapping_name         | The name used to identify the grid mapping.                          |\n",
    "| grid_north_pole_latitude  | True latitude (degrees_north) of the north pole of the rotated grid. |\n",
    "| grid_north_pole_longitude | True longitude (degrees_east) of the north pole of the rotated grid. |\n",
    "| north_pole_grid_longitude | Longitude (degrees) of the true north pole in the rotated grid.      |\n",
    "\n",
    "As described, there is an ambiguity, since there are two ways to reach the same north pole position.\n",
    "For instance, (long 190, lat 30) can be reached both by: \n",
    "\n",
    "  1. rotating 10 degrees around the Z axis and then doing a rotation of -60 degrees around the new Y axis;\n",
    "  2. rotating 190 degrees around the Z axis and the doing a rotation of +60 degrees around the new Y axis.\n",
    "  \n",
    "Again, (long -169.5, lat 46.5): (yes, it would be the same of declaring a long of +190.5\n",
    "\n",
    "  1. rotating +10.5 degrees around the Z axis and then doing a rotation of -33.5 degrees around the new Y axis\n",
    "  2. rotating -169.5 degrees around the Z axis and then doing a rotation of +33.5 degrees around the new Y axis.\n",
    "\n",
    "Again, (long 45.3, lat -34): \n",
    "  \n",
    "  1. rotating 45.3 degrees around the Z axis and then doing a rotation of + (90 + 34) degrees around the new Y axis\n",
    "  2. rotating (45.3 + 180) degrees around the Z axis and then doing a rotation of + (180 - 34) around the new Y axis\n",
    "\n",
    "A way to fix this is to constrain the first rotation between -90, +90. Then only the first option will be avaliable.\n",
    "  \n",
    "The following is an implementation of this coordinate transform."
   ]
  },
  {
   "cell_type": "code",
   "execution_count": 1,
   "metadata": {},
   "outputs": [],
   "source": [
    "from math import pi\n",
    "import numpy as np\n",
    "\n",
    "def lonlat(np_true_long, np_true_lat, lonp, latp):\n",
    "    \"\"\"Map latp and lonp in the rotated pole coordinates to standard lat and lon\n",
    "       np_true_lat is the true latitude of the north pole of the new coord system\n",
    "       np_true_long   is the true longitude of the north pole of the new coord system\n",
    "    \"\"\"\n",
    "    # we assume that the transform was first a rotation on the Z and then a rotation on the long=0 circle \n",
    "    np_true_long = np_true_long % 360\n",
    "    if abs(np_true_long) > 90:\n",
    "        phi = np_true_long - 180\n",
    "        theta = -(90 - np_true_lat)\n",
    "    else:\n",
    "        phi = np_true_long\n",
    "        theta = 90 - np_true_lat\n",
    "    # phi is how much we, first, rotated around the Z axis\n",
    "    # theta is how much we then rotated around the new Y axis\n",
    "    theta = pi * (theta/180)\n",
    "    phi = pi * (phi/180)\n",
    "    latp = pi * latp/180\n",
    "    lonp = pi * lonp/180\n",
    "    lat = np.arcsin(np.cos(theta) * np.sin(latp) - np.cos(lonp) * np.sin(theta) * np.cos(latp))\n",
    "    lon = np.arctan2(np.sin(lonp), np.tan(latp) * np.sin(theta) + np.cos(lonp) * np.cos(theta)) + phi\n",
    "    return 180 * lon / pi, 180 * lat/pi"
   ]
  },
  {
   "cell_type": "markdown",
   "metadata": {},
   "source": [
    "## Example: tdm moloch simulations\n",
    "\n",
    "The moloch/bolam data come as grib2 files. The data is arranged on a rotated pole coordinated system, but this time it is expressed in terms of the position of the southern pole.\n",
    "\n",
    "From the grib2 documentation:\n",
    "\n",
    "Three parameters define a general latitude/longitude coordinate system, formed\n",
    "by a general rotation of the sphere. One choice for these parameters is:\n",
    "\n",
    "  (a) The geographic latitude in degrees of the southern pole of the coordinate\n",
    "  system, $\\theta_p$  for example.\n",
    "\n",
    "  (b) The geographic longitude in degrees of the southern pole of the coordinate\n",
    "  system, $\\lambda_p$ for example.\n",
    "\n",
    "  (c) The angle of rotation in degrees about the new polar axis (measured\n",
    "  **clockwise** when looking from the southern to the northern pole) of the\n",
    "  coordinate system, assuming the new axis to have been obtained by first\n",
    "  rotating the sphere through $\\lambda_p$ degrees about the geographic polar axis and\n",
    "  then rotating through (90 + $\\theta_p$) degrees so that the southern pole moved along\n",
    "  the (previously rotated) Greenwich meridian."
   ]
  },
  {
   "cell_type": "markdown",
   "metadata": {},
   "source": [
    "We will now consider a specific dataset and extract grid information"
   ]
  },
  {
   "cell_type": "code",
   "execution_count": 2,
   "metadata": {},
   "outputs": [
    {
     "name": "stdout",
     "output_type": "stream",
     "text": [
      "/bin/sh: 1: wgrib2: not found\r\n"
     ]
    }
   ],
   "source": [
    "!wgrib2 -d 1 -grid ./data/moloch_2018050103_0011800.grib2"
   ]
  },
  {
   "cell_type": "raw",
   "metadata": {},
   "source": [
    "zag@pflip (powernb)$ wgrib2 -d 1 -grid moloch_2018050103_0011800.grib2 \n",
    "1:0:grid_template=1:winds(N/S):\n",
    "\trotated lat-lon grid:(577 x 577) units 1e-06 input WE:SN output WE:SN res 48\n",
    "\tlat -8.088600 to 5.044200 by 0.022800\n",
    "\tlon 354.900000 to 7.917601 by 0.022600 #points=332929\n",
    "\tsouth pole lat=-46.499996 lon=10.500000 angle of rot=0.000000"
   ]
  },
  {
   "cell_type": "code",
   "execution_count": 5,
   "metadata": {},
   "outputs": [
    {
     "data": {
      "text/plain": [
       "(-169.5, 46.5)"
      ]
     },
     "execution_count": 5,
     "metadata": {},
     "output_type": "execute_result"
    }
   ],
   "source": [
    "sp_lon, sp_lat =  10.5, -46.5\n",
    "np_lon, np_lat = sp_lon - 180, -sp_lat # \n",
    "np_lon, np_lat"
   ]
  },
  {
   "cell_type": "code",
   "execution_count": 6,
   "metadata": {},
   "outputs": [],
   "source": [
    "rlon = np.arange(354.9 - 360, 7.917601, 0.0226)\n",
    "rlat = np.arange(-8.0886, 5.044200 + 0.0228, 0.0228)"
   ]
  },
  {
   "cell_type": "markdown",
   "metadata": {},
   "source": [
    "We can now use `wgrib2` to get the *real* lon, lat coordinates of the grid points"
   ]
  },
  {
   "cell_type": "code",
   "execution_count": 7,
   "metadata": {},
   "outputs": [
    {
     "name": "stdout",
     "output_type": "stream",
     "text": [
      "/bin/sh: 1: wgrib2: not found\r\n"
     ]
    }
   ],
   "source": [
    "! wgrib2 -d 1 -grid  ./data/moloch_2018050103_0011800.grib2 -csv tlatlon.csv"
   ]
  },
  {
   "cell_type": "raw",
   "metadata": {},
   "source": [
    "zag@pflip (powernb)$ wgrib2 -d 1 -grid  moloch_2018050103_0011800.grib2 -csv tlatlon.csv\n",
    "1:0:grid_template=1:winds(N/S):\n",
    "\trotated lat-lon grid:(577 x 577) units 1e-06 input WE:SN output WE:SN res 48\n",
    "\tlat -8.088600 to 5.044200 by 0.022800\n",
    "\tlon 354.900000 to 7.917601 by 0.022600 #points=332929\n",
    "\tsouth pole lat=-46.499996 lon=10.500000 angle of rot=0.000000"
   ]
  },
  {
   "cell_type": "code",
   "execution_count": 9,
   "metadata": {},
   "outputs": [],
   "source": [
    "from csv import DictReader\n",
    "#2018-05-01 03:00:00\",\"2018-05-02 13:00:00\",\"TMP\",\"950 mb\",4.56119,35.2367,290.238\n",
    "c = DictReader(open('./data/tlatlon.csv'), fieldnames=['t1', 't2', 'vname', 'vname2', 'lon', 'lat', 'value'])\n",
    "tlon, tlat = [_ for _ in zip(*((float(r['lon']), float(r['lat'])) for r in c))]\n",
    "tlon = np.array(tlon).reshape(577, 577)\n",
    "tlat = np.array(tlat).reshape(577, 577)"
   ]
  },
  {
   "cell_type": "code",
   "execution_count": 10,
   "metadata": {},
   "outputs": [
    {
     "data": {
      "text/plain": [
       "(4.3153300000000003,\n",
       " 35.222000000000001,\n",
       " (4.3153314373802294, 35.221948801352468))"
      ]
     },
     "execution_count": 10,
     "metadata": {},
     "output_type": "execute_result"
    }
   ],
   "source": [
    "tlon[0,0], tlat[0,0], lonlat(np_lon, np_lat, rlon[0], rlat[0])"
   ]
  },
  {
   "cell_type": "code",
   "execution_count": 11,
   "metadata": {},
   "outputs": [
    {
     "data": {
      "image/png": "[encoded data removed]",
      "text/plain": [
       "<Figure size 432x288 with 1 Axes>"
      ]
     },
     "metadata": {
      "needs_background": "light"
     },
     "output_type": "display_data"
    }
   ],
   "source": [
    "%matplotlib inline\n",
    "import cartopy.crs as ccrs\n",
    "import matplotlib.pyplot as plt\n",
    "\n",
    "ax = plt.axes(projection=ccrs.PlateCarree())\n",
    "ax.stock_img()\n",
    "ax.set_extent((-10, 30, 20, 60), crs=ccrs.PlateCarree())\n",
    "\n",
    "left = lonlat(np_lon, np_lat, rlon.min(), rlat)\n",
    "right = lonlat(np_lon, np_lat, rlon.max(), rlat)\n",
    "bottom = lonlat(np_lon, np_lat, rlon, rlat.min())\n",
    "top = lonlat(np_lon, np_lat, rlon, rlat.max())\n",
    "for side in [bottom, left, top, right]:\n",
    "    plt.plot(side[0], side[1],\n",
    "             color='blue', linewidth=2, ## marker='o',\n",
    "             transform=ccrs.PlateCarree(),\n",
    "             )\n",
    "plt.show()"
   ]
  },
  {
   "cell_type": "code",
   "execution_count": null,
   "metadata": {},
   "outputs": [],
   "source": []
  }
 ],
 "metadata": {
  "kernelspec": {
   "display_name": "Python 3",
   "language": "python",
   "name": "python3"
  },
  "language_info": {
   "codemirror_mode": {
    "name": "ipython",
    "version": 3
   },
   "file_extension": ".py",
   "mimetype": "text/x-python",
   "name": "python",
   "nbconvert_exporter": "python",
   "pygments_lexer": "ipython3",
   "version": "3.6.6"
  }
 },
 "nbformat": 4,
 "nbformat_minor": 2
}
